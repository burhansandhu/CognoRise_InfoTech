{
  "nbformat": 4,
  "nbformat_minor": 0,
  "metadata": {
    "colab": {
      "provenance": []
    },
    "kernelspec": {
      "name": "python3",
      "display_name": "Python 3"
    },
    "language_info": {
      "name": "python"
    }
  },
  "cells": [
    {
      "cell_type": "code",
      "execution_count": 1,
      "metadata": {
        "id": "T5YifmBIQkbw"
      },
      "outputs": [],
      "source": [
        "import numpy as np\n",
        "import pandas as pd\n",
        "from sklearn.model_selection import train_test_split\n",
        "from sklearn.linear_model import LogisticRegression\n",
        "from sklearn.metrics import accuracy_score"
      ]
    },
    {
      "cell_type": "code",
      "source": [
        "data = pd.read_csv('/content/IMDB Dataset.csv')"
      ],
      "metadata": {
        "id": "f1dSG8flREwX"
      },
      "execution_count": 2,
      "outputs": []
    },
    {
      "cell_type": "code",
      "source": [
        "data.isnull().sum()"
      ],
      "metadata": {
        "colab": {
          "base_uri": "https://localhost:8080/",
          "height": 147
        },
        "id": "1qZPPVy8RIN2",
        "outputId": "707d75ce-76d5-495c-bdd0-f15ef2ccc93b"
      },
      "execution_count": 3,
      "outputs": [
        {
          "output_type": "execute_result",
          "data": {
            "text/plain": [
              "review       0\n",
              "sentiment    0\n",
              "dtype: int64"
            ],
            "text/html": [
              "<div>\n",
              "<style scoped>\n",
              "    .dataframe tbody tr th:only-of-type {\n",
              "        vertical-align: middle;\n",
              "    }\n",
              "\n",
              "    .dataframe tbody tr th {\n",
              "        vertical-align: top;\n",
              "    }\n",
              "\n",
              "    .dataframe thead th {\n",
              "        text-align: right;\n",
              "    }\n",
              "</style>\n",
              "<table border=\"1\" class=\"dataframe\">\n",
              "  <thead>\n",
              "    <tr style=\"text-align: right;\">\n",
              "      <th></th>\n",
              "      <th>0</th>\n",
              "    </tr>\n",
              "  </thead>\n",
              "  <tbody>\n",
              "    <tr>\n",
              "      <th>review</th>\n",
              "      <td>0</td>\n",
              "    </tr>\n",
              "    <tr>\n",
              "      <th>sentiment</th>\n",
              "      <td>0</td>\n",
              "    </tr>\n",
              "  </tbody>\n",
              "</table>\n",
              "</div><br><label><b>dtype:</b> int64</label>"
            ]
          },
          "metadata": {},
          "execution_count": 3
        }
      ]
    },
    {
      "cell_type": "markdown",
      "source": [
        "#**TF IDF**"
      ],
      "metadata": {
        "id": "SFw92aiYawf7"
      }
    },
    {
      "cell_type": "code",
      "source": [
        "from sklearn.feature_extraction.text import TfidfVectorizer\n",
        "\n",
        "vectorizer = TfidfVectorizer(max_features=5000)\n",
        "X = vectorizer.fit_transform(data['review'])\n",
        "y = data['sentiment']\n"
      ],
      "metadata": {
        "id": "XngSdxPnSoAL"
      },
      "execution_count": 7,
      "outputs": []
    },
    {
      "cell_type": "markdown",
      "source": [
        "#**Scaling**"
      ],
      "metadata": {
        "id": "3ZMEqZKMbA6T"
      }
    },
    {
      "cell_type": "code",
      "source": [
        "from sklearn.preprocessing import StandardScaler\n",
        "\n",
        "X_train, X_test, y_train, y_test = train_test_split(X, y, test_size=0.2, random_state=42)\n",
        "\n",
        "# Convert sparse matrix to dense array for StandardScaler\n",
        "X_train_dense = X_train.toarray()\n",
        "X_test_dense = X_test.toarray()\n",
        "\n",
        "scaler = StandardScaler()\n",
        "X_train_scaled = scaler.fit_transform(X_train_dense)\n",
        "X_test_scaled = scaler.transform(X_test_dense)\n"
      ],
      "metadata": {
        "id": "2JB1wqNgRKV3"
      },
      "execution_count": 8,
      "outputs": []
    },
    {
      "cell_type": "markdown",
      "source": [
        "#**Logistic Regression**"
      ],
      "metadata": {
        "id": "5urqwd7mbGE9"
      }
    },
    {
      "cell_type": "code",
      "source": [
        "model = LogisticRegression(solver='liblinear', max_iter=1000)\n",
        "model.fit(X_train_scaled, y_train)\n",
        "\n",
        "y_pred = model.predict(X_test_scaled)\n",
        "\n",
        "accuracy = accuracy_score(y_test, y_pred)\n",
        "print(f\"Accuracy: {accuracy}\")\n"
      ],
      "metadata": {
        "colab": {
          "base_uri": "https://localhost:8080/"
        },
        "id": "cLLXInqaSBoT",
        "outputId": "a1c5ed9f-1d7b-4ac3-d842-1fcf1476c491"
      },
      "execution_count": 10,
      "outputs": [
        {
          "output_type": "stream",
          "name": "stdout",
          "text": [
            "Accuracy: 0.8691\n"
          ]
        }
      ]
    },
    {
      "cell_type": "markdown",
      "source": [
        "#**Lasso, Ridge and ElasticNet**"
      ],
      "metadata": {
        "id": "cp3eYlxpbKjT"
      }
    },
    {
      "cell_type": "code",
      "source": [
        "from sklearn.linear_model import Lasso, Ridge, ElasticNet\n",
        "\n",
        "y_train = y_train.map({'negative': 0, 'positive': 1})\n",
        "y_test = y_test.map({'negative': 0, 'positive': 1})\n",
        "\n",
        "# Lasso Regression\n",
        "lasso_model = Lasso(alpha=0.1)\n",
        "lasso_model.fit(X_train_scaled, y_train)\n",
        "y_pred_lasso = lasso_model.predict(X_test_scaled)\n",
        "\n",
        "# Convert predictions to binary (0 or 1) for accuracy calculation\n",
        "y_pred_lasso_binary = [1 if pred > 0.5 else 0 for pred in y_pred_lasso]\n",
        "\n",
        "accuracy_lasso = accuracy_score(y_test, y_pred_lasso_binary)\n",
        "print(f\"Lasso Accuracy: {accuracy_lasso}\")\n",
        "\n",
        "\n",
        "# Ridge Regression\n",
        "ridge_model = Ridge(alpha=0.1)\n",
        "ridge_model.fit(X_train_scaled, y_train)\n",
        "y_pred_ridge = ridge_model.predict(X_test_scaled)\n",
        "\n",
        "y_pred_ridge_binary = [1 if pred > 0.5 else 0 for pred in y_pred_ridge]\n",
        "\n",
        "accuracy_ridge = accuracy_score(y_test, y_pred_ridge_binary)\n",
        "print(f\"Ridge Accuracy: {accuracy_ridge}\")\n",
        "\n",
        "\n",
        "# ElasticNet Regression\n",
        "elasticnet_model = ElasticNet(alpha=0.1, l1_ratio=0.5)\n",
        "elasticnet_model.fit(X_train_scaled, y_train)\n",
        "y_pred_elasticnet = elasticnet_model.predict(X_test_scaled)\n",
        "\n",
        "y_pred_elasticnet_binary = [1 if pred > 0.5 else 0 for pred in y_pred_elasticnet]\n",
        "\n",
        "accuracy_elasticnet = accuracy_score(y_test, y_pred_elasticnet_binary)\n",
        "print(f\"ElasticNet Accuracy: {accuracy_elasticnet}\")\n"
      ],
      "metadata": {
        "colab": {
          "base_uri": "https://localhost:8080/"
        },
        "id": "ibH3XB_3TUlz",
        "outputId": "01d596a0-f79d-4339-bb19-faa2306570e7"
      },
      "execution_count": 12,
      "outputs": [
        {
          "output_type": "stream",
          "name": "stdout",
          "text": [
            "Lasso Accuracy: 0.6548\n",
            "Ridge Accuracy: 0.8767\n",
            "ElasticNet Accuracy: 0.7533\n"
          ]
        }
      ]
    },
    {
      "cell_type": "markdown",
      "source": [
        "#**Random Forest**"
      ],
      "metadata": {
        "id": "GY0GTzPCbTUr"
      }
    },
    {
      "cell_type": "code",
      "source": [
        "from sklearn.ensemble import RandomForestClassifier\n",
        "\n",
        "rf_model = RandomForestClassifier(n_estimators=100, random_state=42)\n",
        "rf_model.fit(X_train_scaled, y_train)\n",
        "y_pred_rf = rf_model.predict(X_test_scaled)\n",
        "\n",
        "accuracy_rf = accuracy_score(y_test, y_pred_rf)\n",
        "print(f\"Random Forest Accuracy: {accuracy_rf}\")\n"
      ],
      "metadata": {
        "colab": {
          "base_uri": "https://localhost:8080/"
        },
        "id": "YPeXp3bOV9oF",
        "outputId": "21e81c0f-d426-441a-c424-daa1b1495814"
      },
      "execution_count": 15,
      "outputs": [
        {
          "output_type": "stream",
          "name": "stdout",
          "text": [
            "Random Forest Accuracy: 0.8459\n"
          ]
        }
      ]
    },
    {
      "cell_type": "markdown",
      "source": [
        "#**Decision Tree**"
      ],
      "metadata": {
        "id": "KRPAZVIsbb92"
      }
    },
    {
      "cell_type": "code",
      "source": [
        "from sklearn.tree import DecisionTreeClassifier\n",
        "\n",
        "dt_model = DecisionTreeClassifier(random_state=42)\n",
        "dt_model.fit(X_train_scaled, y_train)\n",
        "y_pred_dt = dt_model.predict(X_test_scaled)\n",
        "\n",
        "accuracy_dt = accuracy_score(y_test, y_pred_dt)\n",
        "print(f\"Decision Tree Accuracy: {accuracy_dt}\")\n"
      ],
      "metadata": {
        "colab": {
          "base_uri": "https://localhost:8080/"
        },
        "id": "nM10h7NwWqcU",
        "outputId": "f7103e79-f2f7-4dd0-a208-046f120b49e6"
      },
      "execution_count": 16,
      "outputs": [
        {
          "output_type": "stream",
          "name": "stdout",
          "text": [
            "Decision Tree Accuracy: 0.7135\n"
          ]
        }
      ]
    }
  ]
}